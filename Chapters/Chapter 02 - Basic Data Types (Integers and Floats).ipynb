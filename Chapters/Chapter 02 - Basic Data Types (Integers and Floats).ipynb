{
 "cells": [
  {
   "cell_type": "markdown",
   "metadata": {},
   "source": [
    "# Chapter 2 - Basic Data Types (Integers and Floats)\n",
    "\n",
    "*This notebook uses code snippets and explanations from [this course](https://github.com/kadarakos/python-course/blob/master/Chapter%201%20-%20Variables.ipynb).*\n",
    "\n",
    "In the previous chapter, you have made a first start with programming in Python. We have already seen some basic data types: strings and numerical values. In this chapter, we will further explain the concept of data types and have a closer look at the numerical ones: integers and floats.\n",
    "\n",
    "#### At the end of this chapter, you will be able to:\n",
    "* understand the concept of *data types*\n",
    "* check and convert the type of an object\n",
    "* understand and work with two numeric types: *integers* and *floats*\n",
    "\n",
    "#### If you want to learn more about these topics, you might find the following links useful:\n",
    "- Documentation: [Python Built-in Types](https://docs.python.org/3/library/stdtypes.html)\n",
    "- Video: [Variables and Types in Python](https://www.youtube.com/watch?v=OH86oLzVzzw)\n",
    "- Video: [Integers, floats and maths](https://www.youtube.com/watch?v=D48iCw3WWpI&t=66s)\n",
    "- Video: [Working with Numeric Data](https://www.youtube.com/watch?v=khKv-8q7YmY)\n",
    "\n",
    "If you have **questions** about this chapter, please contact us (cltl.python.course@gmail.com)."
   ]
  },
  {
   "cell_type": "markdown",
   "metadata": {},
   "source": [
    "## 1. Basic Data Types\n",
    "\n",
    "Python is an object-oriented programming language. This means that it treats every piece of data like some kind of object that can be manipulated and passed around. Python has the following **basic types of objects**:\n",
    "\n",
    "* **String**: for representing text.\n",
    "* **Integer**: for representing whole numbers.\n",
    "* **Float**: for representing numbers with decimals.\n",
    "* **Tuple**: for representing combinations of objects.\n",
    "* **List**: for representing ordered sequences of objects.\n",
    "* **Set**: for representing unordered sets of objects.\n",
    "* **Dictionary**: to represent mappings between objects.\n",
    "* **Booleans**: too represent the truth values `True` or `False`.\n",
    "* ..and **functions**: to manipulate objects, or to produce new objects given some input.\n",
    "\n",
    "You can also read about the types in Python in the documentation [here](https://docs.python.org/3/library/stdtypes.html), and we will work with each of them during the course. In this block, we will focus on **strings, integers floats and booleans**. We will also show you some other types, which will be explained in more detail in the next block. \n",
    "\n",
    "Here's an example of each type:"
   ]
  },
  {
   "cell_type": "code",
   "execution_count": null,
   "metadata": {
    "tags": []
   },
   "outputs": [],
   "source": [
    "a_string       = 'test'\n",
    "an_integer     = 4\n",
    "a_float        = 3.14\n",
    "a_tuple        = (2,5)\n",
    "a_list         = [1,2,3,1,2,3,'a','b','c']\n",
    "a_set          = {1,2,3,4,'apple'}\n",
    "a_dict         = {'milk':2, 'cheese':1, 'pickles':45}\n",
    "a_function     = print\n",
    "a_bool         = True\n",
    "another_bool   = False"
   ]
  },
  {
   "cell_type": "markdown",
   "metadata": {},
   "source": [
    "#### Inspecting python objects: The type function\n",
    "\n",
    "We can use the **`type()`** function to check object types. Let's use it for a selection of our newly defined objects:"
   ]
  },
  {
   "cell_type": "code",
   "execution_count": null,
   "metadata": {
    "tags": []
   },
   "outputs": [],
   "source": [
    "type(a_string)"
   ]
  },
  {
   "cell_type": "code",
   "execution_count": null,
   "metadata": {
    "tags": []
   },
   "outputs": [],
   "source": [
    "type(a_function)"
   ]
  },
  {
   "cell_type": "code",
   "execution_count": null,
   "metadata": {
    "tags": []
   },
   "outputs": [],
   "source": [
    "type(an_integer)"
   ]
  },
  {
   "cell_type": "markdown",
   "metadata": {},
   "source": [
    "### 1.1 What can you do with an object: type affordances\n",
    "\n",
    "What you need to know at this point is that each type has particular **affordances**, or associated things that you can do with them. When something is of a numeric type (integer, float), the Python interpreter knows that you can perform mathematical operations with that object. You cannot use those operations with strings, because it doesn't make sense to take the square root of the string \"Hello, world!\".\n",
    "\n",
    "It's the same with vehicles and food in real life. Anything that is of the type *vehicle* can be used to get around and possibly transport goods. But you cannot eat a vehicle. Anything that is of the type *food* is edible, but it's pretty difficult to use food for transportation (try biking home on a carrot).\n",
    "\n",
    "So depending on the type, Python interprets objects in a different way and you can do different thing with them. For example, Python will throw a **`TypeError`** if you try to divide one string by another:"
   ]
  },
  {
   "cell_type": "code",
   "execution_count": null,
   "metadata": {
    "tags": []
   },
   "outputs": [],
   "source": [
    "print(\"Hello\" / \"World\")"
   ]
  },
  {
   "cell_type": "markdown",
   "metadata": {},
   "source": [
    "The same operation works just fine for integers:"
   ]
  },
  {
   "cell_type": "code",
   "execution_count": null,
   "metadata": {
    "tags": []
   },
   "outputs": [],
   "source": [
    "print(10/5)"
   ]
  },
  {
   "cell_type": "markdown",
   "metadata": {},
   "source": [
    "### Note on reading and interpreting errors\n",
    "\n",
    "Even though it may seem a bit annoying when your code throws an error, try to see it as a **helpful message informing you about why something does not work**. Consider the error message above. It has the following components:\n",
    "\n",
    "- A name: TypeError \n",
    "- A pointer to the line in which your code goes wrong: ---> 1 \n",
    "- A message: unsupported operand type(s) for /: 'str' and 'str'\n",
    "\n",
    "What does this tell us?\n",
    "\n",
    "* Something is wrong with the type of the object and what we're trying to do. \n",
    "* Where does it go wrong? Easy here - in line 1 (our code only has a single line, but imaging how helpful this information is if you're dealing with 50 lines of code...)\n",
    "* What is wrong? In line 1, we're trying to do something with strings. The message tells us that '/' (i.e. the division operator) is an 'unsupported operand' for objects of the type string. In plain English: Python does not know what to do when we're combining strings with the division operator. The reason for this is that strings cannot be used in divisions. \n",
    "\n",
    "This gives us enough information to figure out what is wrong. Here, there is not really anything we can fix - we simply learned that it is not possible to divide strings. In other cases, the error message can also contain information about how to fix something in the code. \n"
   ]
  },
  {
   "cell_type": "markdown",
   "metadata": {},
   "source": [
    "### The same symbol can do different things depending on the type of object it is combined with\n",
    "Sometimes, the same symbols can act like different **operators** depending on the type which they are used with. Compare the following two code blocks:"
   ]
  },
  {
   "cell_type": "code",
   "execution_count": null,
   "metadata": {
    "tags": []
   },
   "outputs": [],
   "source": [
    "var1 = 1 + 4\n",
    "print(var1)"
   ]
  },
  {
   "cell_type": "code",
   "execution_count": null,
   "metadata": {
    "tags": []
   },
   "outputs": [],
   "source": [
    "var2 = \"hello \" + \"there'\"\n",
    "print(var2)"
   ]
  },
  {
   "cell_type": "code",
   "execution_count": null,
   "metadata": {
    "tags": []
   },
   "outputs": [],
   "source": [
    "list_1 = [1, 2, 3]\n",
    "list_2 = [4, 5, 6]\n",
    "\n",
    "list_3 = list_1 + list_2\n",
    "print(list_3)"
   ]
  },
  {
   "cell_type": "markdown",
   "metadata": {},
   "source": [
    "As we can see, “+” means “addition” if we use it with integers and “concatenate” (put together) if we use it with strings (or lists). If we try to combine both types, Python will indicate that the operation you are trying to do does not make sense:"
   ]
  },
  {
   "cell_type": "code",
   "execution_count": null,
   "metadata": {
    "tags": []
   },
   "outputs": [],
   "source": [
    "var3 = 4 + \"hello\"\n",
    "print(var3)"
   ]
  },
  {
   "cell_type": "code",
   "execution_count": null,
   "metadata": {
    "tags": []
   },
   "outputs": [],
   "source": [
    "var4 = list_1 +5\n",
    "print(var4)"
   ]
  },
  {
   "cell_type": "markdown",
   "metadata": {},
   "source": [
    "### 1.2 Casting types (e.g. turning integers into strings)\n",
    "\n",
    "Sometimes it would make sense to convert one type into the other. This is called **casting**. For example, we can imagine a case like this: "
   ]
  },
  {
   "cell_type": "code",
   "execution_count": null,
   "metadata": {
    "tags": []
   },
   "outputs": [],
   "source": [
    "x = 2\n",
    "y = \"5\"\n",
    "z = x + y\n",
    "print(z)"
   ]
  },
  {
   "cell_type": "markdown",
   "metadata": {},
   "source": [
    "We get again a `TypeError` indicating that we cannot combine a string and an integer. Luckily, we can convert the string into an integer by applying **`int()`** to the variable `x`."
   ]
  },
  {
   "cell_type": "code",
   "execution_count": null,
   "metadata": {
    "tags": []
   },
   "outputs": [],
   "source": [
    "x = \"5\"\n",
    "y = 2\n",
    "z = int(x) + y\n",
    "print(z)\n",
    "print(type(z))"
   ]
  },
  {
   "cell_type": "markdown",
   "metadata": {},
   "source": [
    "Similarly, we can convert an integer into a string using **`str()`**, after which it can be concatenated with another string:"
   ]
  },
  {
   "cell_type": "code",
   "execution_count": null,
   "metadata": {
    "tags": []
   },
   "outputs": [],
   "source": [
    "x = 2\n",
    "y = \" apples\"\n",
    "z = str(x) + y\n",
    "print(z)\n",
    "print(type(z))"
   ]
  },
  {
   "cell_type": "markdown",
   "metadata": {},
   "source": [
    "Other types of conversions are possible as well, but of course not all conversions make sense. For example, we cannot make an integer of the string \"hello\":"
   ]
  },
  {
   "cell_type": "code",
   "execution_count": null,
   "metadata": {
    "tags": []
   },
   "outputs": [],
   "source": [
    "int(\"hello\")"
   ]
  },
  {
   "cell_type": "markdown",
   "metadata": {},
   "source": [
    "Because variables can change data type, we say that Python uses 'dynamic typing', as opposed to other more 'strict' languages that use 'strong typing'."
   ]
  },
  {
   "cell_type": "markdown",
   "metadata": {},
   "source": [
    "### Note about the error messages\n",
    "\n",
    "Here, we see how we can go one step further when we get an error message:\n",
    "\n",
    "We learn that for instance strings and integers cannot be concatenated. If we still want to concatenate them (for instance because we want to create a single string), we can fix the code by turning the integer into a string (i.e. using type casting). You will most likely encounter this and similar types of errors many times throughout this course. "
   ]
  },
  {
   "cell_type": "markdown",
   "metadata": {},
   "source": [
    "## 2. Numbers: Integers and Floats\n",
    "\n",
    "We will discuss all of the data types throughout this course. But for now, let's have a closer look at the numerical values that you can use in Python: integers and floats. \n",
    "\n",
    "So far we have only assigned numbers such as 2 or 365 to our variables. Such whole numbers are called **integers** in programming, because they don't contain any digits 'after the dot'. Numbers that do have digits after the dot (e.g. 67.278 or 191.200), are called 'floating-point numbers' in programming or simply **floats**. Note that Python uses dots in floats, whereas some European languages use a comma here. Both integers and floats can be positive numbers (e.g. 70 or 4.36) as well as negative numbers (e.g. -70 or -4.36). You can just as easily assign floats to variables:"
   ]
  },
  {
   "cell_type": "code",
   "execution_count": null,
   "metadata": {
    "tags": []
   },
   "outputs": [],
   "source": [
    "some_float = 23.987\n",
    "print(some_float)\n",
    "some_float = -4.56\n",
    "print(some_float)"
   ]
  },
  {
   "cell_type": "markdown",
   "metadata": {},
   "source": [
    "The difference between integers and floats is of course important for divisions where you often (automatically) end up with floats This is known as implicit type conversion, or 'coercion'. In some cases, this can lead to problems, for instance if the rest of your code expects integers, but suddenly has to deal with floats (but you do not have to worry about it for now). "
   ]
  },
  {
   "cell_type": "code",
   "execution_count": null,
   "metadata": {},
   "outputs": [],
   "source": [
    "x = 5/2m\n",
    "print(x)"
   ]
  },
  {
   "cell_type": "markdown",
   "metadata": {},
   "source": [
    "### 2.1 Mathematical operators\n",
    "There are several [mathematical operators](https://docs.python.org/3/library/stdtypes.html) defined for both integers and floats (found under 'Numberic Types'), some of which we have already seen above:\n",
    "\n",
    "| Operation | Result |\n",
    "|-----------|--------|\n",
    "| `x + y` |\tsum of x and y|\n",
    "| `x - y` |\tdifference of x and y \t|  \t \n",
    "| `x * y` |\tproduct of x and y \t  \t |\n",
    "| `x / y` |\tquotient of x and y \t  \t |\n",
    "| `x // y` |\tfloored quotient of x and y\t |\n",
    "| `x % y` |\tremainder of x / y \t|\n",
    "| `-x` |\tx negated \t  \t |\n",
    "| `+x` |\tx unchanged \t  |\t \n",
    "| `x ** y` |\tx to the power y |\n",
    "\n",
    "You will undoubtedly remember from your math classes in high school that there is something called **operator precedence**, meaning that multiplication, for instance, will always be executed before subtraction. In Python you can explicitly set the order in which arithmetic operations are executed, using round brackets. Compare the following lines of code:"
   ]
  },
  {
   "cell_type": "code",
   "execution_count": null,
   "metadata": {
    "tags": []
   },
   "outputs": [],
   "source": [
    "nr1 = 10-2/4\n",
    "nr2 = (10-2)/4\n",
    "nr3 = 10-(2/4)\n",
    "print(nr1)\n",
    "print(nr2)\n",
    "print(nr3)"
   ]
  },
  {
   "cell_type": "markdown",
   "metadata": {},
   "source": [
    "Using the operators we have learned about above, we can change the variables in our code as many times as we want. We can assign new values to old variables, just like we can put new or more things in the boxes which we already had. Say, for instance, that yesterday we counted how many books we have in our office and that we stored this count in our code as follows:"
   ]
  },
  {
   "cell_type": "code",
   "execution_count": null,
   "metadata": {
    "tags": []
   },
   "outputs": [],
   "source": [
    "number_of_books = 100"
   ]
  },
  {
   "cell_type": "markdown",
   "metadata": {},
   "source": [
    "### 2.2 A common shortcut: +="
   ]
  },
  {
   "cell_type": "markdown",
   "metadata": {},
   "source": [
    "Suppose that we buy a new book for the office today: we can now update our book count accordingly, by adding one to our previous count:"
   ]
  },
  {
   "cell_type": "code",
   "execution_count": null,
   "metadata": {
    "tags": []
   },
   "outputs": [],
   "source": [
    "number_of_books = number_of_books + 1\n",
    "print(number_of_books)"
   ]
  },
  {
   "cell_type": "markdown",
   "metadata": {},
   "source": [
    "Updates like these happen a lot. Python therefore provides a shortcut and you can write the same thing using +=."
   ]
  },
  {
   "cell_type": "code",
   "execution_count": null,
   "metadata": {
    "tags": []
   },
   "outputs": [],
   "source": [
    "number_of_books += 5\n",
    "print(number_of_books)"
   ]
  },
  {
   "cell_type": "markdown",
   "metadata": {},
   "source": [
    "This special shortcut (+=) is called an operator too. Apart from addition (+=), the operator has variants for subtraction (-=), multiplication (*=) and division (/=) too:"
   ]
  },
  {
   "cell_type": "code",
   "execution_count": null,
   "metadata": {
    "tags": []
   },
   "outputs": [],
   "source": [
    "number_of_books -= 5\n",
    "print(number_of_books)\n",
    "number_of_books *= 2\n",
    "print(number_of_books)\n",
    "number_of_books /= 2\n",
    "print(number_of_books)"
   ]
  },
  {
   "cell_type": "markdown",
   "metadata": {},
   "source": [
    "In some cases, an operator returns data in a different type from what you started with. Consider the following piece of code. Using the type function, you can see that the division operator works on integers, but returns floats. "
   ]
  },
  {
   "cell_type": "code",
   "execution_count": null,
   "metadata": {
    "tags": []
   },
   "outputs": [],
   "source": [
    "number1 = 10\n",
    "number2 = 2\n",
    "result = number1 / number2\n",
    "print(number1, type(number1))\n",
    "print(number2, type(number2))\n",
    "print(result, type(result))"
   ]
  },
  {
   "cell_type": "markdown",
   "metadata": {},
   "source": [
    "## Exercises"
   ]
  },
  {
   "cell_type": "markdown",
   "metadata": {},
   "source": [
    "### Exercise 1:\n",
    "Does the following give you the result that you expected? What is the type of `result`? What do you need to change if you simply want to do a calculation?"
   ]
  },
  {
   "cell_type": "code",
   "execution_count": null,
   "metadata": {},
   "outputs": [],
   "source": [
    "result = \"1\" + \"3\""
   ]
  },
  {
   "cell_type": "markdown",
   "metadata": {},
   "source": [
    "### Exercise 2:\n",
    "What could be left out in the following piece of code without changing the result (the value of x)?"
   ]
  },
  {
   "cell_type": "code",
   "execution_count": null,
   "metadata": {},
   "outputs": [],
   "source": [
    "x = 3 + (2 * 5) + (10 - 2) / 3\n",
    "print(x)"
   ]
  },
  {
   "cell_type": "markdown",
   "metadata": {},
   "source": [
    "### Exercise 3:\n",
    "Please print the type of the following variables:"
   ]
  },
  {
   "cell_type": "code",
   "execution_count": null,
   "metadata": {},
   "outputs": [],
   "source": [
    "var1 = 365\n",
    "var2 = 3.14\n",
    "var3 = \"hi there\""
   ]
  },
  {
   "cell_type": "markdown",
   "metadata": {},
   "source": [
    "### Exercise 4: \n",
    "Use `input()` to ask a user for any number. Divide this number by `nr1` and store the result as a variable. Print the value and the type of this variable."
   ]
  },
  {
   "cell_type": "code",
   "execution_count": null,
   "metadata": {},
   "outputs": [],
   "source": [
    "nr1 = 2\n",
    "# your code here"
   ]
  },
  {
   "cell_type": "markdown",
   "metadata": {},
   "source": [
    "### Exercise 5:\n",
    "\n",
    "The following cells will throw errors or not do what you expect. Can you figure out what is going on and fix it?"
   ]
  },
  {
   "cell_type": "code",
   "execution_count": null,
   "metadata": {
    "tags": []
   },
   "outputs": [],
   "source": [
    "x = 10 \n",
    "y = \"5\"\n",
    "z = x / y \n",
    "print(z)"
   ]
  },
  {
   "cell_type": "code",
   "execution_count": null,
   "metadata": {
    "tags": []
   },
   "outputs": [],
   "source": [
    "\n",
    "count = 1\n",
    "count = count += 1 \n",
    "count"
   ]
  },
  {
   "cell_type": "code",
   "execution_count": null,
   "metadata": {
    "tags": []
   },
   "outputs": [],
   "source": [
    "# This does something, but it is probably not what you want. Can you fix it?\n",
    "# As an extra exercise: can you figure out what =+ does do?\n",
    "\n",
    "count = 1\n",
    "count =+ 1\n",
    "print(count)"
   ]
  },
  {
   "cell_type": "code",
   "execution_count": null,
   "metadata": {},
   "outputs": [],
   "source": []
  }
 ],
 "metadata": {
  "anaconda-cloud": {},
  "kernelspec": {
   "display_name": "Python 3 (ipykernel)",
   "language": "python",
   "name": "python3"
  },
  "language_info": {
   "codemirror_mode": {
    "name": "ipython",
    "version": 3
   },
   "file_extension": ".py",
   "mimetype": "text/x-python",
   "name": "python",
   "nbconvert_exporter": "python",
   "pygments_lexer": "ipython3",
   "version": "3.11.4"
  }
 },
 "nbformat": 4,
 "nbformat_minor": 4
}
